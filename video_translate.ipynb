{
 "cells": [
  {
   "cell_type": "code",
   "execution_count": null,
   "id": "3840cb48-53ff-4149-bf83-376dbadcb354",
   "metadata": {},
   "outputs": [],
   "source": [
    "# 音频提取"
   ]
  },
  {
   "cell_type": "code",
   "execution_count": 1,
   "id": "9ed17a9c-2bc4-4471-a47e-540b1f12507c",
   "metadata": {},
   "outputs": [
    {
     "name": "stdout",
     "output_type": "stream",
     "text": [
      "Traceback (most recent call last):\n",
      "  File \"/root/autodl-tmp/./Core/wav_extract.py\", line 1, in <module>\n",
      "    from moviepy.editor import VideoFileClip\n",
      "ModuleNotFoundError: No module named 'moviepy'\n"
     ]
    }
   ],
   "source": [
    "! python ./Core/wav_extract.py --video_path /INPUT/"
   ]
  },
  {
   "cell_type": "code",
   "execution_count": 2,
   "id": "672f2ca2-adca-47ff-b83c-b6f359469a73",
   "metadata": {},
   "outputs": [
    {
     "name": "stdout",
     "output_type": "stream",
     "text": [
      "['/root/autodl-tmp', '/root/miniconda3/lib/python310.zip', '/root/miniconda3/lib/python3.10', '/root/miniconda3/lib/python3.10/lib-dynload', '', '/root/miniconda3/lib/python3.10/site-packages']\n"
     ]
    }
   ],
   "source": [
    "import sys\n",
    "print(sys.path)"
   ]
  },
  {
   "cell_type": "code",
   "execution_count": null,
   "id": "ab3213c4-e61c-428e-b8aa-a2f1666a3946",
   "metadata": {},
   "outputs": [],
   "source": []
  }
 ],
 "metadata": {
  "kernelspec": {
   "display_name": "Python 3 (ipykernel)",
   "language": "python",
   "name": "python3"
  },
  "language_info": {
   "codemirror_mode": {
    "name": "ipython",
    "version": 3
   },
   "file_extension": ".py",
   "mimetype": "text/x-python",
   "name": "python",
   "nbconvert_exporter": "python",
   "pygments_lexer": "ipython3",
   "version": "3.10.8"
  }
 },
 "nbformat": 4,
 "nbformat_minor": 5
}
